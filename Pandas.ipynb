{
 "cells": [
  {
   "cell_type": "markdown",
   "id": "0c0f0173-036b-4d5b-af40-a38ce91bdb08",
   "metadata": {},
   "source": [
    "# Introduction to Pandas DataFrames\n"
   ]
  },
  {
   "cell_type": "markdown",
   "id": "38b98c9a-9377-4a7c-8f32-e6341f49699a",
   "metadata": {},
   "source": [
    "![Pandabild](/pandas.webp)"
   ]
  },
  {
   "cell_type": "markdown",
   "id": "ef263194-5d3d-4ec6-ab47-ae2e6e6c3cce",
   "metadata": {},
   "source": [
    "[Pandas](https://pandas.pydata.org/) is a powerful and versatile library for Python, designed primarily for data manipulation and analysis. To quote from Nvidia’s website:"
   ]
  },
  {
   "cell_type": "markdown",
   "id": "b3f018f8-447a-4819-ab05-5ef38d5bd0ab",
   "metadata": {},
   "source": [
    "Pandas is the most popular software library for data manipulation and data analysis for the Python programming language. ([www.nvidia.com](https://www.nvidia.com/en-us/glossary/pandas-python/))"
   ]
  },
  {
   "cell_type": "markdown",
   "id": "b2d632d3-6ab5-4c21-9a5b-24a1f6f06ee6",
   "metadata": {},
   "source": [
    "Here is an (incomplete) list of some key functionalities provided by Pandas:\n",
    "\n"
   ]
  },
  {
   "cell_type": "markdown",
   "id": "7a422d95-84b8-4624-8aa0-73ca071d350a",
   "metadata": {},
   "source": [
    "1. **Data structures**\n",
    "   - *Series*: One-dimensional labeled array capable of holding data of any type.\n",
    "   - *DataFrame*: Two-dimensional, size-mutable, potentially heterogeneous tabular data structure with labeled axes (rows and columns).\n",
    "2. **Data Manipulation**\n",
    "    - *Data Selection and Indexing*: Access data via labels, indices, or boolean masks (.loc, .iloc, .at, .iat).\n",
    "    - *Filtering*: Filter data based on conditions or queries.\n",
    "    - *Sorting*: Sort data by labels or values.\n",
    "    - *Handling Missing Data*: Identify, fill, or drop missing values (isnull, dropna, fillna).\n",
    "3. **Data Cleaning**\n",
    "    - *Dropping Duplicates*: Remove duplicate rows or columns.\n",
    "    - *Replacing Values*: Replace specific values in the DataFrame.\n",
    "    - *String Operations*: Perform operations on string data, like splitting, replacing, and pattern matching (str.split, str.replace).\n",
    "4. **Aggregation and Grouping**\n",
    "    - *Group By*: Split data into groups based on criteria, and perform aggregate functions like sum, mean, or custom operations.\n",
    "    - *Pivot Tables*: Create a pivot table to summarize data.\n",
    "5. **Merging and Joining\n",
    "    - *Concatenation*: Combine multiple DataFrames along a particular axis.\n",
    "    - *Merging*: Merge DataFrames similar to SQL joins (merge, join).\n",
    "6. **Time Series**\n",
    "    - *Datetime Conversion*: Convert date and time data to a datetime object.\n",
    "    - *Resampling*: Aggregate data over a time period.\n",
    "    - *Time-based Indexing*: Access and manipulate time-series data easily with date indexing.\n",
    "7. **Statistical and Mathematical Operations**\n",
    "    - *Descriptive Statistics*: Compute summary statistics for DataFrame columns.\n",
    "    - *Correlation/ Covariance*: Calculate the pairwise correlation or covariance between columns.\n",
    "    - *Cumulative Operations*: Perform cumulative operations on data."
   ]
  },
  {
   "cell_type": "markdown",
   "id": "ce1aec4d-2782-42cf-92fb-dacc8ee07db1",
   "metadata": {},
   "source": [
    "At the heart of Pandas lies the DataFrame, a two-dimensional labeled data structure with columns of potentially different types, similar to a table in a relational database or an Excel spreadsheet. Understanding DataFrames is crucial for anyone looking to perform data analysis in Python."
   ]
  },
  {
   "cell_type": "markdown",
   "id": "69393f72-89f2-41fc-8e01-3e5ec8435cdf",
   "metadata": {},
   "source": [
    "## **What is a DataFrame?**\n",
    "A DataFrame is a table-like structure in Pandas that consists of rows and columns, where each column can hold different data types (e.g., integers, floats, strings). You can think of it as a collection of Series objects, where each Series is a single column of data. DataFrames provide a highly efficient way to store and manipulate large datasets in memory."
   ]
  },
  {
   "cell_type": "markdown",
   "id": "b72eadd9-a328-4715-82a0-7a68d00563ba",
   "metadata": {},
   "source": [
    "## **Creating a DataFrame**\n",
    "There are several ways to create a DataFrame in Pandas, but some of the most common methods are:\n",
    "\n",
    "1. From a Dictionary\n",
    "2. From a List of Lists\n",
    "3. From a CSV File\n",
    "\n",
    "Below we take a look at the first two approaches."
   ]
  },
  {
   "cell_type": "markdown",
   "id": "619a7cd6-fc70-4c65-84ad-5d2a3b66fb83",
   "metadata": {},
   "source": [
    "### Creating DataFrame from a Dictionary\n",
    "The following code will create a DataFrame with three columns: ‘Name’, ‘Age’, and ‘City’, and three rows corresponding to the data provided in the dictionary. To be able to use Pandas, we first have to import it. This is done using the command import pandas as pd, introducing the alias pd for Pandas."
   ]
  },
  {
   "cell_type": "code",
   "execution_count": null,
   "id": "0ab6ea58-0fe3-4e53-89bf-1d8ef56feb0b",
   "metadata": {},
   "outputs": [],
   "source": []
  }
 ],
 "metadata": {
  "kernelspec": {
   "display_name": "Python [conda env:unigis]",
   "language": "python",
   "name": "conda-env-unigis-py"
  },
  "language_info": {
   "codemirror_mode": {
    "name": "ipython",
    "version": 3
   },
   "file_extension": ".py",
   "mimetype": "text/x-python",
   "name": "python",
   "nbconvert_exporter": "python",
   "pygments_lexer": "ipython3",
   "version": "3.13.7"
  }
 },
 "nbformat": 4,
 "nbformat_minor": 5
}
