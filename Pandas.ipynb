{
 "cells": [
  {
   "cell_type": "markdown",
   "id": "0c0f0173-036b-4d5b-af40-a38ce91bdb08",
   "metadata": {},
   "source": [
    "# Introduction to Pandas DataFrames\n"
   ]
  },
  {
   "cell_type": "markdown",
   "id": "38b98c9a-9377-4a7c-8f32-e6341f49699a",
   "metadata": {},
   "source": [
    "![Pandabild](pandas.webp)"
   ]
  },
  {
   "cell_type": "markdown",
   "id": "ef263194-5d3d-4ec6-ab47-ae2e6e6c3cce",
   "metadata": {},
   "source": [
    "[Pandas](https://pandas.pydata.org/) is a powerful and versatile library for Python, designed primarily for data manipulation and analysis. To quote from Nvidia’s website:"
   ]
  },
  {
   "cell_type": "markdown",
   "id": "b3f018f8-447a-4819-ab05-5ef38d5bd0ab",
   "metadata": {},
   "source": [
    "Pandas is the most popular software library for data manipulation and data analysis for the Python programming language. ([www.nvidia.com](https://www.nvidia.com/en-us/glossary/pandas-python/))"
   ]
  },
  {
   "cell_type": "markdown",
   "id": "b2d632d3-6ab5-4c21-9a5b-24a1f6f06ee6",
   "metadata": {},
   "source": [
    "Here is an (incomplete) list of some key functionalities provided by Pandas:\n",
    "\n"
   ]
  },
  {
   "cell_type": "markdown",
   "id": "7a422d95-84b8-4624-8aa0-73ca071d350a",
   "metadata": {},
   "source": [
    "1. **Data structures**\n",
    "   - *Series*: One-dimensional labeled array capable of holding data of any type.\n",
    "   - *DataFrame*: Two-dimensional, size-mutable, potentially heterogeneous tabular data structure with labeled axes (rows and columns).\n",
    "2. **Data Manipulation**\n",
    "    - *Data Selection and Indexing*: Access data via labels, indices, or boolean masks (.loc, .iloc, .at, .iat).\n",
    "    - *Filtering*: Filter data based on conditions or queries.\n",
    "    - *Sorting*: Sort data by labels or values.\n",
    "    - *Handling Missing Data*: Identify, fill, or drop missing values (isnull, dropna, fillna).\n",
    "3. **Data Cleaning**\n",
    "    - *Dropping Duplicates*: Remove duplicate rows or columns.\n",
    "    - *Replacing Values*: Replace specific values in the DataFrame.\n",
    "    - *String Operations*: Perform operations on string data, like splitting, replacing, and pattern matching (str.split, str.replace).\n",
    "4. **Aggregation and Grouping**\n",
    "    - *Group By*: Split data into groups based on criteria, and perform aggregate functions like sum, mean, or custom operations.\n",
    "    - *Pivot Tables*: Create a pivot table to summarize data.\n",
    "5. **Merging and Joining**\n",
    "    - *Concatenation*: Combine multiple DataFrames along a particular axis.\n",
    "    - *Merging*: Merge DataFrames similar to SQL joins (merge, join).\n",
    "6. **Time Series**\n",
    "    - *Datetime Conversion*: Convert date and time data to a datetime object.\n",
    "    - *Resampling*: Aggregate data over a time period.\n",
    "    - *Time-based Indexing*: Access and manipulate time-series data easily with date indexing.\n",
    "7. **Statistical and Mathematical Operations**\n",
    "    - *Descriptive Statistics*: Compute summary statistics for DataFrame columns.\n",
    "    - *Correlation/ Covariance*: Calculate the pairwise correlation or covariance between columns.\n",
    "    - *Cumulative Operations*: Perform cumulative operations on data."
   ]
  },
  {
   "cell_type": "markdown",
   "id": "ce1aec4d-2782-42cf-92fb-dacc8ee07db1",
   "metadata": {},
   "source": [
    "At the heart of Pandas lies the DataFrame, a two-dimensional labeled data structure with columns of potentially different types, similar to a table in a relational database or an Excel spreadsheet. Understanding DataFrames is crucial for anyone looking to perform data analysis in Python."
   ]
  },
  {
   "cell_type": "markdown",
   "id": "69393f72-89f2-41fc-8e01-3e5ec8435cdf",
   "metadata": {},
   "source": [
    "## **What is a DataFrame?**\n",
    "A DataFrame is a table-like structure in Pandas that consists of rows and columns, where each column can hold different data types (e.g., integers, floats, strings). You can think of it as a collection of Series objects, where each Series is a single column of data. DataFrames provide a highly efficient way to store and manipulate large datasets in memory."
   ]
  },
  {
   "cell_type": "markdown",
   "id": "b72eadd9-a328-4715-82a0-7a68d00563ba",
   "metadata": {},
   "source": [
    "## **Creating a DataFrame**\n",
    "There are several ways to create a DataFrame in Pandas, but some of the most common methods are:\n",
    "\n",
    "1. From a Dictionary\n",
    "2. From a List of Lists\n",
    "3. From a CSV File\n",
    "\n",
    "Below we take a look at the first two approaches."
   ]
  },
  {
   "cell_type": "markdown",
   "id": "619a7cd6-fc70-4c65-84ad-5d2a3b66fb83",
   "metadata": {},
   "source": [
    "### Creating DataFrame from a Dictionary\n",
    "The following code will create a DataFrame with three columns: ‘Name’, ‘Age’, and ‘City’, and three rows corresponding to the data provided in the dictionary. To be able to use Pandas, we first have to import it. This is done using the command import pandas as pd, introducing the alias pd for Pandas."
   ]
  },
  {
   "cell_type": "markdown",
   "id": "23c020d6-dac0-4f2f-b748-433c3e81d623",
   "metadata": {},
   "source": [
    "```\n",
    "import pandas as pd\n",
    "\n",
    "data = { \n",
    "        'Name': ['Alice', 'Bob', 'Charlie'],\n",
    "        'Age': [25, 30, 35], \n",
    "        'City': ['New York', 'Los Angeles', 'Chicago'] \n",
    "}\n",
    "\n",
    "df = pd.DataFrame(data)  \n",
    "print(df)\n",
    "```"
   ]
  },
  {
   "cell_type": "code",
   "execution_count": 1,
   "id": "cbd1dd5b-44f8-461f-814f-d6ece765bfbb",
   "metadata": {},
   "outputs": [
    {
     "name": "stdout",
     "output_type": "stream",
     "text": [
      "      Name  Age         City\n",
      "0    Alice   25     New York\n",
      "1      Bob   30  Los Angeles\n",
      "2  Charlie   35      Chicago\n"
     ]
    }
   ],
   "source": [
    "import pandas as pd\n",
    "\n",
    "data = {\n",
    "    'Name': ['Alice', 'Bob', 'Charlie'],\n",
    "    'Age': [25, 30, 35],\n",
    "    'City': ['New York', 'Los Angeles', 'Chicago']\n",
    "}\n",
    "\n",
    "df = pd.DataFrame(data)\n",
    "print(df)"
   ]
  },
  {
   "cell_type": "markdown",
   "id": "488fa562-3195-4b5b-ac30-6c658836b5a3",
   "metadata": {},
   "source": [
    "### Creating DataFrame from a List of Lists\n",
    "Here, we create the DataFrame from a list of lists where each inner list represents the values for one row. Note that We explicitly specify the column names when creating the DataFrame.\n",
    "```\n",
    "data = [\n",
    "    ['Alice', 25, 'New York'],\n",
    "    ['Bob', 30, 'Los Angeles'],\n",
    "    ['Charlie', 35, 'Chicago']\n",
    "]\n",
    "\n",
    "df = pd.DataFrame(data, columns=['Name', 'Age', 'City'])\n",
    "print(df)\n",
    "```"
   ]
  },
  {
   "cell_type": "code",
   "execution_count": 2,
   "id": "6eac3b18-c3a7-452b-9292-125bab8658bf",
   "metadata": {},
   "outputs": [
    {
     "name": "stdout",
     "output_type": "stream",
     "text": [
      "      Name  Age         City\n",
      "0    Alice   25     New York\n",
      "1      Bob   30  Los Angeles\n",
      "2  Charlie   35      Chicago\n"
     ]
    }
   ],
   "source": [
    "data = [\n",
    "    ['Alice', 25, 'New York'],\n",
    "    ['Bob', 30, 'Los Angeles'],\n",
    "    ['Charlie', 35, 'Chicago']\n",
    "]\n",
    "\n",
    "df = pd.DataFrame(data, columns=['Name', 'Age', 'City'])\n",
    "print(df)"
   ]
  },
  {
   "cell_type": "markdown",
   "id": "0db6b933-6ef7-4499-9142-8333fb0e29f2",
   "metadata": {},
   "source": [
    "## Accessing Data in a DataFrame\n",
    "Once you have a DataFrame, you can access its data in various ways:\n",
    "\n",
    "- By column name:\n",
    "\n",
    "`print(df['Name'])`"
   ]
  },
  {
   "cell_type": "code",
   "execution_count": 3,
   "id": "a9800ad3-b138-4da1-ab2a-b775f2ba79b1",
   "metadata": {},
   "outputs": [
    {
     "name": "stdout",
     "output_type": "stream",
     "text": [
      "0      Alice\n",
      "1        Bob\n",
      "2    Charlie\n",
      "Name: Name, dtype: object\n"
     ]
    }
   ],
   "source": [
    "print(df['Name'])"
   ]
  },
  {
   "cell_type": "markdown",
   "id": "6078db44-f89e-42cf-adc9-c72105ad494b",
   "metadata": {},
   "source": [
    "- By row index:\n",
    "\n",
    "`print(df.iloc[0])`"
   ]
  },
  {
   "cell_type": "code",
   "execution_count": 4,
   "id": "d245141b-01f3-4292-866d-86196359e380",
   "metadata": {},
   "outputs": [
    {
     "name": "stdout",
     "output_type": "stream",
     "text": [
      "Name       Alice\n",
      "Age           25\n",
      "City    New York\n",
      "Name: 0, dtype: object\n"
     ]
    }
   ],
   "source": [
    "print(df.iloc[0])"
   ]
  },
  {
   "cell_type": "markdown",
   "id": "df4ce4c2-fa61-42d4-9924-25b64f59dbeb",
   "metadata": {},
   "source": [
    "- Using both:\n",
    "\n",
    "`print(df.loc[0, 'Name'])`"
   ]
  },
  {
   "cell_type": "code",
   "execution_count": 5,
   "id": "2ebd2e0e-7ee0-4dc7-84c7-6cbf02e685fb",
   "metadata": {},
   "outputs": [
    {
     "name": "stdout",
     "output_type": "stream",
     "text": [
      "Alice\n"
     ]
    }
   ],
   "source": [
    "print(df.loc[0, 'Name'])"
   ]
  },
  {
   "cell_type": "markdown",
   "id": "f9b00c22-7d82-428d-96e9-b313a8b495a5",
   "metadata": {},
   "source": [
    "## Conclusion\n",
    "Pandas DataFrames are a fundamental tool in the data analysis toolkit for Python users. They provide a powerful way to organize, manipulate, and analyze data efficiently. Whether you’re working with small datasets or handling large-scale data, mastering DataFrames will allow you to tackle a wide range of data-related tasks with ease.\n",
    "\n",
    "In this introduction, we’ve covered the basics of what a DataFrame is, how to create one, and how to access columns, rows, and individual cells in a DataFrame. As you continue to explore Pandas, you’ll discover many more features and capabilities that make DataFrames an indispensable part of Python programming. The table below contains a number of resources related to Pandas."
   ]
  },
  {
   "cell_type": "markdown",
   "id": "e438aec4-d4f0-4aa1-bf21-626dd5304404",
   "metadata": {},
   "source": [
    "## Resources\n",
    "\n",
    "| Resource                      | Description                                                |\n",
    "|-------------------------------|------------------------------------------------------------|\n",
    "| [Pandas Documentation](https://pandas.pydata.org/) | Official documentation for Pandas.                         |\n",
    "| [Python for Data Analysis](https://www.oreilly.com/library/view/python-for-data/9781491957653/) | Comprehensive guide by Pandas creator, Wes McKinney.       |\n",
    "| [Real Python: The Pandas DataFrame](https://realpython.com/pandas-dataframe/) | Tutorials on using Pandas for data analysis.              |\n",
    "| [Kaggle Pandas](https://www.kaggle.com/learn/pandas) | Free introductory course on Pandas by Kaggle.              |\n",
    "| [DataCamp Pandas Tutorial](https://www.datacamp.com/tutorial/pandas-tutorial-dataframe-python) | Detailed tutorials and exercises on Pandas.                |\n"
   ]
  },
  {
   "cell_type": "code",
   "execution_count": null,
   "id": "da9dee18-75cb-4fe4-b43c-c5284ba8dc8a",
   "metadata": {},
   "outputs": [],
   "source": []
  }
 ],
 "metadata": {
  "kernelspec": {
   "display_name": "Python [conda env:unigis]",
   "language": "python",
   "name": "conda-env-unigis-py"
  },
  "language_info": {
   "codemirror_mode": {
    "name": "ipython",
    "version": 3
   },
   "file_extension": ".py",
   "mimetype": "text/x-python",
   "name": "python",
   "nbconvert_exporter": "python",
   "pygments_lexer": "ipython3",
   "version": "3.13.7"
  }
 },
 "nbformat": 4,
 "nbformat_minor": 5
}
